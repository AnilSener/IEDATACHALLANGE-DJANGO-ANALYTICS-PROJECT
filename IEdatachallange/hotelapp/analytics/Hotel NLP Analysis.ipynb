{
 "worksheets": [
  {
   "cells": [
    {
     "cell_type": "code",
     "metadata": {},
     "outputs": [],
     "input": [
      "import pandas as pd\n",
      "from bson import ObjectId\n",
      "import numpy as np\n",
      "import jsonrpclib\n",
      "from simplejson import loads\n",
      "from pymongo import MongoClient\n",
      "import nltk\n",
      "from collections import Counter\n",
      "from nltk.stem import WordNetLemmatizer\n",
      "import itertools\n",
      "server = jsonrpclib.Server(\"http://localhost:8080\")"
     ],
     "language": "python",
     "prompt_number": 27
    },
    {
     "cell_type": "code",
     "metadata": {},
     "outputs": [],
     "input": [
      "client = MongoClient('localhost',27017)\n",
      "db = client.hotelapp\n",
      "hotel = db.hotel_review\n",
      "reviews = pd.DataFrame(list(hotel.find({\"_id\":{\"$exists\":\"true\"}},{\"review\":1, \"reviewLocation\":1, \"_id\":0})))"
     ],
     "language": "python",
     "prompt_number": 28
    },
    {
     "cell_type": "code",
     "metadata": {},
     "outputs": [],
     "input": [
      "f = lambda x: x.replace('\\n','')\n",
      "reviews['review'] = reviews['review'].map(f)"
     ],
     "language": "python",
     "prompt_number": 29
    },
    {
     "cell_type": "code",
     "metadata": {},
     "outputs": [
      {
       "output_type": "pyout",
       "html": [
        "<div style=\"max-height:1000px;max-width:1500px;overflow:auto;\">\n",
        "<table border=\"1\" class=\"dataframe\">\n",
        "  <thead>\n",
        "    <tr style=\"text-align: right;\">\n",
        "      <th></th>\n",
        "      <th>review</th>\n",
        "    </tr>\n",
        "    <tr>\n",
        "      <th>reviewLocation</th>\n",
        "      <th></th>\n",
        "    </tr>\n",
        "  </thead>\n",
        "  <tbody>\n",
        "    <tr>\n",
        "      <th>55124bc4c9d3c969e8b86aa5</th>\n",
        "      <td> 1064</td>\n",
        "    </tr>\n",
        "  </tbody>\n",
        "</table>\n",
        "</div>"
       ],
       "text": [
        "<div style=\"max-height:1000px;max-width:1500px;overflow:auto;\">\n",
        "<table border=\"1\" class=\"dataframe\">\n",
        "  <thead>\n",
        "    <tr style=\"text-align: right;\">\n",
        "      <th></th>\n",
        "      <th>review</th>\n",
        "    </tr>\n",
        "    <tr>\n",
        "      <th>reviewLocation</th>\n",
        "      <th></th>\n",
        "    </tr>\n",
        "  </thead>\n",
        "  <tbody>\n",
        "    <tr>\n",
        "      <th>55124bc4c9d3c969e8b86aa5</th>\n",
        "      <td> 1064</td>\n",
        "    </tr>\n",
        "  </tbody>\n",
        "</table>\n",
        "</div>"
       ],
       "metadata": {}
      }
     ],
     "input": [
      "reviews.groupby(\"reviewLocation\", sort=True).agg('count').sort('review', ascending=False).head(1)"
     ],
     "language": "python",
     "prompt_number": 30
    },
    {
     "cell_type": "code",
     "metadata": {},
     "outputs": [
      {
       "output_type": "pyout",
       "html": [
        "<div style=\"max-height:1000px;max-width:1500px;overflow:auto;\">\n",
        "<table border=\"1\" class=\"dataframe\">\n",
        "  <thead>\n",
        "    <tr style=\"text-align: right;\">\n",
        "      <th></th>\n",
        "      <th>review</th>\n",
        "      <th>reviewLocation</th>\n",
        "    </tr>\n",
        "  </thead>\n",
        "  <tbody>\n",
        "    <tr>\n",
        "      <th>1189</th>\n",
        "      <td> Stayed for three nights. Best position in Bilb...</td>\n",
        "      <td> 55124bc4c9d3c969e8b86aa5</td>\n",
        "    </tr>\n",
        "    <tr>\n",
        "      <th>1190</th>\n",
        "      <td> The location is unique right across the street...</td>\n",
        "      <td> 55124bc4c9d3c969e8b86aa5</td>\n",
        "    </tr>\n",
        "    <tr>\n",
        "      <th>1191</th>\n",
        "      <td> Stayed at this hotel a few years ago. Several ...</td>\n",
        "      <td> 55124bc4c9d3c969e8b86aa5</td>\n",
        "    </tr>\n",
        "    <tr>\n",
        "      <th>1192</th>\n",
        "      <td> Stayed for business nice to stay in hotel with...</td>\n",
        "      <td> 55124bc4c9d3c969e8b86aa5</td>\n",
        "    </tr>\n",
        "    <tr>\n",
        "      <th>1193</th>\n",
        "      <td> The position of the hotel is incredible , in f...</td>\n",
        "      <td> 55124bc4c9d3c969e8b86aa5</td>\n",
        "    </tr>\n",
        "  </tbody>\n",
        "</table>\n",
        "</div>"
       ],
       "text": [
        "<div style=\"max-height:1000px;max-width:1500px;overflow:auto;\">\n",
        "<table border=\"1\" class=\"dataframe\">\n",
        "  <thead>\n",
        "    <tr style=\"text-align: right;\">\n",
        "      <th></th>\n",
        "      <th>review</th>\n",
        "      <th>reviewLocation</th>\n",
        "    </tr>\n",
        "  </thead>\n",
        "  <tbody>\n",
        "    <tr>\n",
        "      <th>1189</th>\n",
        "      <td> Stayed for three nights. Best position in Bilb...</td>\n",
        "      <td> 55124bc4c9d3c969e8b86aa5</td>\n",
        "    </tr>\n",
        "    <tr>\n",
        "      <th>1190</th>\n",
        "      <td> The location is unique right across the street...</td>\n",
        "      <td> 55124bc4c9d3c969e8b86aa5</td>\n",
        "    </tr>\n",
        "    <tr>\n",
        "      <th>1191</th>\n",
        "      <td> Stayed at this hotel a few years ago. Several ...</td>\n",
        "      <td> 55124bc4c9d3c969e8b86aa5</td>\n",
        "    </tr>\n",
        "    <tr>\n",
        "      <th>1192</th>\n",
        "      <td> Stayed for business nice to stay in hotel with...</td>\n",
        "      <td> 55124bc4c9d3c969e8b86aa5</td>\n",
        "    </tr>\n",
        "    <tr>\n",
        "      <th>1193</th>\n",
        "      <td> The position of the hotel is incredible , in f...</td>\n",
        "      <td> 55124bc4c9d3c969e8b86aa5</td>\n",
        "    </tr>\n",
        "  </tbody>\n",
        "</table>\n",
        "</div>"
       ],
       "metadata": {}
      }
     ],
     "input": [
      "reviews = reviews[reviews[\"reviewLocation\"] == ObjectId('55124bc4c9d3c969e8b86aa5')]\n",
      "reviews.head(5)"
     ],
     "language": "python",
     "prompt_number": 31
    },
    {
     "cell_type": "code",
     "metadata": {},
     "outputs": [
      {
       "output_type": "stream",
       "stream": "stdout",
       "text": [
        "0\ne"
       ]
      },
      {
       "output_type": "stream",
       "stream": "stdout",
       "text": [
        "\n500"
       ]
      },
      {
       "output_type": "stream",
       "stream": "stdout",
       "text": [
        "\n1000"
       ]
      },
      {
       "output_type": "stream",
       "stream": "stdout",
       "text": [
        "\n"
       ]
      }
     ],
     "input": [
      "phrase = []\n",
      "lem = WordNetLemmatizer()\n",
      "a = reviews[\"review\"].tolist()\n",
      "for i in range(len(a)):\n",
      "    try:\n",
      "        if i in range(0,5000,500):\n",
      "            print(i)\n",
      "        a[i] = a[i].lower()\n",
      "        a[i] = nltk.sent_tokenize(a[i])\n",
      "        a[i] = [nltk.word_tokenize(sent) for sent in a[i]]\n",
      "        b = []\n",
      "        for sent in a[i]:\n",
      "            lemma = [lem.lemmatize(word) for word in sent]\n",
      "            b.append(lemma)\n",
      "        a[i] = b\n",
      "        a[i] = list(itertools.chain(*a[i]))\n",
      "        a[i] = \" \".join(a[i])\n",
      "        result = loads(server.parse(a[i]))\n",
      "        for i in result['sentences']:\n",
      "            for x in i['dependencies']:\n",
      "                if 'nsubj' in x:\n",
      "                    phrase.append([x[0],x[2], x[1], 1])\n",
      "                if 'nsubjpass' in x:\n",
      "                    phrase.append([x[0],x[2], x[1], 1])\n",
      "                if 'amod' in x:\n",
      "                    phrase.append([x[0],x[1],x[2], 1])\n",
      "    except Exception:\n",
      "        print('e')\n",
      "        continue\n",
      "\n",
      "df = pd.DataFrame(phrase, columns=['dep','noun', 'mod', 'value'])"
     ],
     "language": "python",
     "prompt_number": 32
    },
    {
     "cell_type": "code",
     "metadata": {},
     "outputs": [],
     "input": [
      "#df.to_csv('Hotel_NLP.csv')\n",
      "df = pd.read_csv('Hotel_NLP.csv')"
     ],
     "language": "python"
    },
    {
     "cell_type": "code",
     "metadata": {},
     "outputs": [],
     "input": [
      "from sklearn.externals import joblib\n",
      "from sklearn.feature_extraction.text import TfidfVectorizer\n",
      "clf = joblib.load('/data1/home/anil/Desktop/IEdatachallange/hotelapp/analytics/models/senti_model.pkl')"
     ],
     "language": "python",
     "prompt_number": 7
    },
    {
     "cell_type": "code",
     "metadata": {},
     "outputs": [
      {
       "output_type": "stream",
       "stream": "stdout",
       "text": [
        "(750, 1245)\n"
       ]
      },
      {
       "output_type": "stream",
       "stream": "stderr",
       "text": [
        "/anaconda/lib/python3.4/site-packages/pandas/util/decorators.py:53: FutureWarning: rows is deprecated, use index instead\n",
        "  warnings.warn(msg, FutureWarning)\n"
       ]
      },
      {
       "output_type": "pyout",
       "html": [
        "<div style=\"max-height:1000px;max-width:1500px;overflow:auto;\">\n",
        "<table border=\"1\" class=\"dataframe\">\n",
        "  <thead>\n",
        "    <tr style=\"text-align: right;\">\n",
        "      <th>mod</th>\n",
        "      <th>$</th>\n",
        "      <th>'cause</th>\n",
        "      <th>'d</th>\n",
        "      <th>'s</th>\n",
        "      <th>.2</th>\n",
        "      <th>10-day</th>\n",
        "      <th>10th</th>\n",
        "      <th>15-min</th>\n",
        "      <th>15-minute</th>\n",
        "      <th>1km</th>\n",
        "      <th>...</th>\n",
        "      <th>working</th>\n",
        "      <th>worst</th>\n",
        "      <th>worth</th>\n",
        "      <th>would</th>\n",
        "      <th>wrapped</th>\n",
        "      <th>written</th>\n",
        "      <th>wrote</th>\n",
        "      <th>yellow</th>\n",
        "      <th>young</th>\n",
        "      <th>´</th>\n",
        "    </tr>\n",
        "    <tr>\n",
        "      <th>noun</th>\n",
        "      <th></th>\n",
        "      <th></th>\n",
        "      <th></th>\n",
        "      <th></th>\n",
        "      <th></th>\n",
        "      <th></th>\n",
        "      <th></th>\n",
        "      <th></th>\n",
        "      <th></th>\n",
        "      <th></th>\n",
        "      <th></th>\n",
        "      <th></th>\n",
        "      <th></th>\n",
        "      <th></th>\n",
        "      <th></th>\n",
        "      <th></th>\n",
        "      <th></th>\n",
        "      <th></th>\n",
        "      <th></th>\n",
        "      <th></th>\n",
        "      <th></th>\n",
        "    </tr>\n",
        "  </thead>\n",
        "  <tbody>\n",
        "    <tr>\n",
        "      <th>$</th>\n",
        "      <td> 0</td>\n",
        "      <td> 0</td>\n",
        "      <td> 0</td>\n",
        "      <td> 0</td>\n",
        "      <td> 0</td>\n",
        "      <td> 0</td>\n",
        "      <td> 0</td>\n",
        "      <td> 0</td>\n",
        "      <td> 0</td>\n",
        "      <td> 0</td>\n",
        "      <td>...</td>\n",
        "      <td> 0</td>\n",
        "      <td> 0</td>\n",
        "      <td> 0</td>\n",
        "      <td> 0</td>\n",
        "      <td> 0</td>\n",
        "      <td> 0</td>\n",
        "      <td> 0</td>\n",
        "      <td> 0</td>\n",
        "      <td> 0</td>\n",
        "      <td> 0</td>\n",
        "    </tr>\n",
        "  </tbody>\n",
        "</table>\n",
        "<p>1 rows × 1245 columns</p>\n",
        "</div>"
       ],
       "text": [
        "mod   $  'cause  'd  's  .2  10-day  10th  15-min  15-minute  1km ...   \\\n",
        "noun                                                              ...    \n",
        "$     0       0   0   0   0       0     0       0          0    0 ...    \n",
        "\n",
        "mod   working  worst  worth  would  wrapped  written  wrote  yellow  young  ´  \n",
        "noun                                                                           \n",
        "$           0      0      0      0        0        0      0       0      0  0  \n",
        "\n",
        "[1 rows x 1245 columns]"
       ],
       "metadata": {}
      }
     ],
     "input": [
      "dfPiv = df.pivot_table(values='value', rows='noun', columns='mod', aggfunc= np.sum).fillna(0)\n",
      "print(dfPiv.shape)\n",
      "dfPiv.head(1)"
     ],
     "language": "python",
     "prompt_number": 8
    },
    {
     "cell_type": "code",
     "metadata": {},
     "outputs": [
      {
       "output_type": "pyout",
       "prompt_number": 9,
       "text": [
        "49"
       ],
       "metadata": {}
      }
     ],
     "input": [
      "nouns = ['atmosphere', 'bathroom', 'beams', 'bed', \n",
      "         'bedroom', 'children', 'cod', 'dinner', 'drive',\n",
      "         'establishment', 'experience', 'farmhouse', 'farmstead',\n",
      "         'floor', 'food', 'help', 'hotel', 'house', 'kitchen', 'people', 'playground', 'price',\n",
      "         'produce', 'ramón', 'room', 'service', 'shower', 'special', 'staff', 'towels', 'amenity', 'appetizer', 'decoration',\n",
      "         'design', 'dinner', 'breakfast', 'lunch', 'drinks', 'brunch', 'buffet', 'snack','sheet', 'pillow', 'cost', 'furniture',\n",
      "         'concierge', 'parking', 'cook', 'waiter']\n",
      "len(nouns)"
     ],
     "language": "python",
     "prompt_number": 9
    },
    {
     "cell_type": "code",
     "metadata": {},
     "outputs": [
      {
       "output_type": "pyout",
       "html": [
        "<div style=\"max-height:1000px;max-width:1500px;overflow:auto;\">\n",
        "<table border=\"1\" class=\"dataframe\">\n",
        "  <thead>\n",
        "    <tr style=\"text-align: right;\">\n",
        "      <th></th>\n",
        "      <th>words</th>\n",
        "      <th>mods</th>\n",
        "    </tr>\n",
        "  </thead>\n",
        "  <tbody>\n",
        "    <tr>\n",
        "      <th>0</th>\n",
        "      <td>    amenity</td>\n",
        "      <td> [ample, are, available, comfortable, complimen...</td>\n",
        "    </tr>\n",
        "    <tr>\n",
        "      <th>1</th>\n",
        "      <td> atmosphere</td>\n",
        "      <td>                                    [cosmopolitan]</td>\n",
        "    </tr>\n",
        "  </tbody>\n",
        "</table>\n",
        "</div>"
       ],
       "text": [
        "        words                                               mods\n",
        "0     amenity  [ample, are, available, comfortable, complimen...\n",
        "1  atmosphere                                     [cosmopolitan]"
       ],
       "metadata": {}
      }
     ],
     "input": [
      "data = dfPiv[dfPiv.index.isin(nouns)]\n",
      "dfTopic = pd.DataFrame(data.index.tolist(), columns= ['words'])\n",
      "dfTopic['mods'] = None\n",
      "\n",
      "cols = data.columns.values.tolist()\n",
      "for row in dfTopic['words']:\n",
      "    c = []\n",
      "    a = data[data.index == row].values.tolist()\n",
      "    for i in range(len(a[0])):\n",
      "        if a[0][i] != 0.0:\n",
      "            c.append(i)\n",
      "    dfTopic['mods'][dfTopic[dfTopic['words'] == row].index] = [[cols[x] for x in c]]\n",
      "\n",
      "dfTopic.head(2)"
     ],
     "language": "python",
     "prompt_number": 10
    },
    {
     "cell_type": "code",
     "metadata": {},
     "outputs": [],
     "input": [
      "def benchmark(clf, data, ngram=(1,1), text_vectorizer= 'hash', dim_reduce='Ch2', k_variables=5000, top10=True, feature_names=True, report=True, matrix=True):\n",
      "    def Append(row):\n",
      "        row = ', '.join(row)\n",
      "        corpus.append(row)\n",
      "    \n",
      "    corpus = []\n",
      "    data.ix[:,1].apply(Append)\n",
      "    \n",
      "    if text_vectorizer == 'tfi':\n",
      "        vectorizer = TfidfVectorizer(sublinear_tf=True, ngram_range=ngram, max_df=0.5, stop_words='english', lowercase=True)\n",
      "    \n",
      "    elif text_vectorizer == 'count':\n",
      "        vectorizer = CountVectorizer(ngram_range=ngram, lowercase=True)\n",
      "        \n",
      "    elif text_vectorizer == 'hash':\n",
      "        vectorizer = HashingVectorizer(n_features=6000, norm='l1', non_negative=True, lowercase=True, stop_words='english', ngram_range=ngram)\n",
      "        \n",
      "    X = vectorizer.fit_transform(corpus)\n",
      "    \n",
      "    if text_vectorizer == 'hash':\n",
      "        Xdf = pd.DataFrame(X.toarray(),index=corpus)\n",
      "    else:\n",
      "        Xdf = pd.DataFrame(X.toarray(),index=corpus,columns=vectorizer.get_feature_names())\n",
      "\n",
      "    print('_' * 80)\n",
      "    print(clf)\n",
      "    pred = clf.predict(Xdf)\n",
      "\n",
      "    if text_vectorizer != 'hash':\n",
      "        if top10 and feature_names is not None:\n",
      "            if hasattr(clf, 'coef_'):\n",
      "                    print(\"top 10 keywords per class:\")\n",
      "                    for i in range(3):\n",
      "                        top10 = np.argsort(clf.coef_[i])[-20:]\n",
      "                        feature_names = Xdf.columns\n",
      "                        print(feature_names[top10])\n",
      "\n",
      "            if hasattr(clf, 'feature_importances_'):\n",
      "                print(\"top 10 keywords per class:\")\n",
      "                top10 = np.argsort(clf.feature_importances_)[-30:]\n",
      "                feature_names = Xdf.columns\n",
      "                print(feature_names[top10])\n",
      "\n",
      "    print()\n",
      "    clf_descr = str(clf).split('(')[0]\n",
      "    return pred"
     ],
     "language": "python",
     "prompt_number": 12
    },
    {
     "cell_type": "code",
     "metadata": {},
     "outputs": [
      {
       "output_type": "stream",
       "stream": "stdout",
       "text": [
        "________________________________________________________________________________\n",
        "RandomForestClassifier(bootstrap=True, compute_importances=None,\n",
        "            criterion='entropy', max_depth=None, max_features='auto',\n",
        "            max_leaf_nodes=None, min_density=None, min_samples_leaf=1,\n",
        "            min_samples_split=2, n_estimators=50, n_jobs=1,\n",
        "            oob_score=False, random_state=223, verbose=0)\n",
        "top 10 keywords per class:\n",
        "Index(['hospitable', 'accommodating', 'beautiful', 'entire', '5th', 'closer', 'falling', 'efficient', 'single', 'ok', 'stylish', 'plus', 'vallet', 'food', 'basic', 'awesome', 'usual', 'better', 'welcome', 'speak', 'justify', 'unpacked', 'shaped', 'cool', 'luxurious', 'ready', 'terrier', 'superior', 'late', 'average'], dtype='object')\n",
        "\n"
       ]
      }
     ],
     "input": [
      "scores = benchmark(clf, dfTopic, text_vectorizer='tfi')"
     ],
     "language": "python",
     "prompt_number": 13
    },
    {
     "cell_type": "code",
     "metadata": {},
     "outputs": [],
     "input": [
      "dfTopic['scores'] = scores\n",
      "\n",
      "food = [ 'dinner', 'food', 'kitchen','produce', 'appetizer', 'dinner', 'breakfast', \n",
      "        'lunch', 'drinks', 'brunch', 'buffet', 'snack','sheet', 'cook']\n",
      "room = ['atmosphere', 'bathroom', 'beams', 'bed', 'bedroom','establishment', 'floor', 'hotel', 'price',\n",
      "         'room', 'shower',  'towels', 'decoration','design', 'sheet', 'pillow', 'cost', 'furniture']\n",
      "staff = ['help','service', 'staff','concierge','waiter']"
     ],
     "language": "python",
     "prompt_number": 14
    },
    {
     "cell_type": "code",
     "metadata": {},
     "outputs": [],
     "input": [
      "foodScore = np.mean(dfTopic[dfTopic['words'].isin(food)]['scores'])\n",
      "roomScore = np.mean(dfTopic[dfTopic['words'].isin(room)]['scores'])\n",
      "staffScore = np.mean(dfTopic[dfTopic['words'].isin(staff)]['scores'])"
     ],
     "language": "python",
     "prompt_number": 15
    },
    {
     "cell_type": "code",
     "metadata": {},
     "outputs": [
      {
       "output_type": "stream",
       "stream": "stdout",
       "text": [
        "2.5 2.76923076923 2.25\n"
       ]
      }
     ],
     "input": [
      "print(foodScore, roomScore, staffScore)"
     ],
     "language": "python",
     "prompt_number": 16
    },
    {
     "cell_type": "code",
     "metadata": {},
     "outputs": [
      {
       "output_type": "pyout",
       "text": [
        "ObjectId('551867ecc9d3c9806c4a4775')"
       ],
       "metadata": {}
      }
     ],
     "input": [
      "#inserting demo hotel sentiment result to DB\n",
      "\n",
      "db.hotel_sentiment_results.insert({\"hotelID\":204269,\"foodScore\":round(foodScore,2),\"roomScore\":round(roomScore,2),\"staffScore\":round(staffScore,2)})"
     ],
     "language": "python",
     "prompt_number": 43
    },
    {
     "cell_type": "code",
     "metadata": {},
     "outputs": [],
     "input": [
      ""
     ],
     "language": "python"
    }
   ]
  }
 ],
 "cells": [],
 "metadata": {
  "name": "",
  "signature": "sha256:6aacf3bf15d3883a17ba18da25f08e650e46d4608218ade08c8838ddd3bb7da9"
 },
 "nbformat": 3,
 "nbformat_minor": 0
}