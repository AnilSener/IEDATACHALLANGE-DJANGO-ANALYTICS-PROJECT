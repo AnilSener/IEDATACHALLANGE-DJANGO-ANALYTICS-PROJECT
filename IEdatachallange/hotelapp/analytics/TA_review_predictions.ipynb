{
 "worksheets": [
  {
   "cells": [
    {
     "cell_type": "code",
     "metadata": {},
     "outputs": [],
     "input": [
      "import numpy as np\n",
      "import pandas as pd\n",
      "from time import time\n",
      "import pymongo\n",
      "import gc\n",
      "from pymongo import MongoClient\n",
      "import random\n",
      "from pandas import concat\n",
      "import matplotlib.pyplot as plt\n",
      "from sklearn.feature_extraction.text import TfidfVectorizer\n",
      "from sklearn.feature_extraction.text import HashingVectorizer\n",
      "from sklearn.feature_selection import SelectKBest, chi2\n",
      "from sklearn.linear_model import RidgeClassifier\n",
      "from sklearn.svm import LinearSVC\n",
      "from sklearn.linear_model import SGDClassifier\n",
      "from sklearn.linear_model import Perceptron\n",
      "from sklearn.linear_model import PassiveAggressiveClassifier\n",
      "from sklearn.naive_bayes import BernoulliNB, MultinomialNB\n",
      "from sklearn.neighbors import KNeighborsClassifier\n",
      "from sklearn.neighbors import NearestCentroid\n",
      "from sklearn.utils.extmath import density\n",
      "from sklearn.ensemble import RandomForestClassifier\n",
      "from sklearn.svm import SVC\n",
      "from sklearn.cross_validation import train_test_split\n",
      "from sklearn.decomposition import TruncatedSVD\n",
      "from sklearn.feature_extraction.text import CountVectorizer\n",
      "from sklearn import metrics\n",
      "import matplotlib.pyplot as plt\n",
      "import nltk\n",
      "from nltk.stem import WordNetLemmatizer\n",
      "import itertools\n",
      "from nltk.corpus import sentiwordnet as swn\n",
      "wnl = WordNetLemmatizer()\n",
      "\n",
      "random.seed(121)"
     ],
     "language": "python",
     "prompt_number": 1
    },
    {
     "cell_type": "code",
     "metadata": {},
     "outputs": [],
     "input": [
      "import configparser\n",
      "config = configparser.ConfigParser()\n",
      "config.read('/root/PycharmProjects/IEdatachallange/app.conf')\n",
      "from mongoengine.connection import connect,disconnect\n",
      "connection=connect(db=\"hotelapp\", username=\"hoteladmin\", password=\"hoteladmin\")"
     ],
     "language": "python",
     "prompt_number": 2
    },
    {
     "cell_type": "heading",
     "metadata": {},
     "level": 2,
     "source": [
      "Sentiment Analysis with Words"
     ]
    },
    {
     "cell_type": "code",
     "metadata": {},
     "outputs": [],
     "input": [
      "client = MongoClient('localhost',27017 )\n",
      "db = client.hotelapp\n",
      "hotelReview = db.hotel_review\n",
      "hotelSentiment = db.hotel_sentiment"
     ],
     "language": "python",
     "prompt_number": 3
    },
    {
     "cell_type": "heading",
     "metadata": {},
     "level": 3,
     "source": [
      "Format DataFrame"
     ]
    },
    {
     "cell_type": "code",
     "metadata": {},
     "outputs": [
      {
       "output_type": "stream",
       "stream": "stderr",
       "text": [
        "-c:5: SettingWithCopyWarning: A value is trying to be set on a copy of a slice from a DataFrame.\n",
        "Try using .loc[row_index,col_indexer] = value instead\n",
        "-c:7: SettingWithCopyWarning: A value is trying to be set on a copy of a slice from a DataFrame.\n",
        "Try using .loc[row_index,col_indexer] = value instead\n",
        "-c:9: SettingWithCopyWarning: A value is trying to be set on a copy of a slice from a DataFrame.\n",
        "Try using .loc[row_index,col_indexer] = value instead\n"
       ]
      },
      {
       "output_type": "stream",
       "stream": "stderr",
       "text": [
        "-c:11: SettingWithCopyWarning: A value is trying to be set on a copy of a slice from a DataFrame.\n",
        "Try using .loc[row_index,col_indexer] = value instead\n",
        "-c:18: SettingWithCopyWarning: A value is trying to be set on a copy of a slice from a DataFrame.\n",
        "Try using .loc[row_index,col_indexer] = value instead\n"
       ]
      },
      {
       "output_type": "stream",
       "stream": "stderr",
       "text": [
        "-c:20: SettingWithCopyWarning: A value is trying to be set on a copy of a slice from a DataFrame.\n",
        "Try using .loc[row_index,col_indexer] = value instead\n",
        "-c:22: SettingWithCopyWarning: A value is trying to be set on a copy of a slice from a DataFrame.\n",
        "Try using .loc[row_index,col_indexer] = value instead\n",
        "-c:24: SettingWithCopyWarning: A value is trying to be set on a copy of a slice from a DataFrame.\n",
        "Try using .loc[row_index,col_indexer] = value instead\n"
       ]
      }
     ],
     "input": [
      "df= pd.DataFrame(list(hotelReview.find({\"review\": {\"$exists\": \"true\"}}, {\"review\":1, \"rating\":1, \"_id\":0})))\n",
      "df5 = df[df['rating'] == 5]\n",
      "df5['rating'] = 3\n",
      "df4 = df[df['rating'] == 4]\n",
      "df4['rating'] = 3\n",
      "df3 = df[df['rating'] == 3]\n",
      "df3['rating']= 2\n",
      "df2 = df[df['rating'] == 2]\n",
      "df2['rating']= 1\n",
      "df1 = df[df['rating'] == 1]\n",
      "df = concat([df5, df4, df3, df3, df3, df2, df2, df2, df1, df1, df1])\n",
      "\n",
      "dfTitle = pd.DataFrame(list(hotelReview.find({\"review\": {\"$exists\": \"true\"}}, {\"title\":1, \"rating\":1, \"_id\":0})))\n",
      "df5 = dfTitle[dfTitle['rating'] == 5]\n",
      "df5['rating'] = 3\n",
      "df4 = dfTitle[dfTitle['rating'] == 4]\n",
      "df4['rating'] = 3\n",
      "df3 = dfTitle[dfTitle['rating'] == 3]\n",
      "df3['rating']= 2\n",
      "df2 = dfTitle[dfTitle['rating'] == 2]\n",
      "df2['rating']= 1\n",
      "df1 = dfTitle[dfTitle['rating'] == 1]\n",
      "dfTitle = concat([df5, df4, df3, df3, df2, df2, df1, df1])"
     ],
     "language": "python",
     "prompt_number": 4
    },
    {
     "cell_type": "code",
     "metadata": {},
     "outputs": [],
     "input": [
      "lem = WordNetLemmatizer()\n",
      "a = df[\"review\"].tolist()\n",
      "for i in range(len(a)):\n",
      "    a[i] = nltk.sent_tokenize(a[i])\n",
      "    a[i] = [nltk.word_tokenize(sent) for sent in a[i]]\n",
      "    b = []\n",
      "    for sent in a[i]:\n",
      "        lemma = [lem.lemmatize(word) for word in sent]\n",
      "        b.append(lemma)\n",
      "    a[i] = b\n",
      "    a[i] = list(itertools.chain(*a[i]))\n",
      "    a[i] = \" \".join(a[i])\n",
      "df[\"review\"] = a"
     ],
     "language": "python",
     "prompt_number": 5
    },
    {
     "cell_type": "heading",
     "metadata": {},
     "level": 3,
     "source": [
      "SentiWordnet"
     ]
    },
    {
     "cell_type": "code",
     "metadata": {},
     "outputs": [],
     "input": [
      "dfSenti= pd.DataFrame(list(hotelReview.find({\"review\": {\"$exists\": \"true\"}}, {\"review\":1, \"rating\":1, \"_id\":0})))\n",
      "allReviews = []\n",
      "\n",
      "for i in range(dfSenti.shape[0]):\n",
      "    sentences = nltk.sent_tokenize(dfSenti.ix[i,1][1:-1])\n",
      "    stokens = [nltk.word_tokenize(sent) for sent in sentences]\n",
      "    stokens = list(itertools.chain(*stokens))\n",
      "    lemma = [wnl.lemmatize(t) for t in stokens]\n",
      "    tagged = nltk.pos_tag(lemma)\n",
      "    scores = []\n",
      "    for tag in tagged:\n",
      "        if tag[1].startswith('NN'):\n",
      "            synsets = list(swn.senti_synsets(tag[0], 'n'))\n",
      "            if len(synsets) > 0:\n",
      "                scores.append(str(synsets[0].pos_score()))\n",
      "        elif tag[1].startswith('JJ'):\n",
      "            synsets = list(swn.senti_synsets(tag[0], 'a'))\n",
      "            if len(synsets) > 0:\n",
      "                scores.append(str(synsets[0].pos_score()))\n",
      "        elif tag[1].startswith('V'):\n",
      "            synsets = list(swn.senti_synsets(tag[0], 'v'))\n",
      "            if len(synsets) > 0:\n",
      "                scores.append(str(synsets[0].pos_score()))\n",
      "        elif tag[1].startswith('R'):\n",
      "            synsets = list(swn.senti_synsets(tag[0], 'r'))\n",
      "            if len(synsets) > 0:\n",
      "                scores.append(str(synsets[0].pos_score()))\n",
      "    allReviews.append(\", \".join(scores))\n",
      "    \n",
      "dfSenti['Senti_Scores'] = allReviews\n",
      "\n",
      "dfSenti = dfSenti[[\"rating\", \"Senti_Scores\"]]\n",
      "df5 = dfSenti[dfSenti['rating'] == 5]\n",
      "df5['rating'] = 3\n",
      "df4 = dfSenti[dfSenti['rating'] == 4]\n",
      "df4['rating'] = 3\n",
      "df3 = dfSenti[dfSenti['rating'] == 3]\n",
      "df3['rating']= 2\n",
      "df2 = dfSenti[dfSenti['rating'] == 2]\n",
      "df2['rating']= 1\n",
      "df1 = dfSenti[dfSenti['rating'] == 1]\n",
      "dfSenti = concat([df5, df4, df3, df3, df2, df2, df1, df1])\n",
      "dfSenti.head()"
     ],
     "language": "python"
    },
    {
     "cell_type": "heading",
     "metadata": {},
     "level": 3,
     "source": [
      "Benchmark Function. It takes any classification algorithm and returns a confusion matrix, and metric scores along with the top words it used to classify"
     ]
    },
    {
     "cell_type": "code",
     "metadata": {},
     "outputs": [],
     "input": [
      "def benchmark(clf, data, ngram=(1,1), text_vectorizer= 'hash', dim_reduce='Ch2', k_variables=1000, top10=True, feature_names=True, report=True, matrix=True):\n",
      "    def Append(row):\n",
      "        corpus.append(row)\n",
      "    \n",
      "    corpus = []\n",
      "    data.ix[:,1].apply(Append)\n",
      "    \n",
      "    if text_vectorizer == 'tfi':\n",
      "        vectorizer = TfidfVectorizer(sublinear_tf=True, ngram_range=ngram, max_df=0.5, stop_words='english', lowercase=True)\n",
      "    \n",
      "    elif text_vectorizer == 'count':\n",
      "        vectorizer = CountVectorizer(ngram_range=ngram, lowercase=True)\n",
      "        \n",
      "    elif text_vectorizer == 'hash':\n",
      "        vectorizer = HashingVectorizer(n_features=2000, norm='l1', non_negative=True, lowercase=True, stop_words='english', ngram_range=ngram)\n",
      "        \n",
      "    X = vectorizer.fit_transform(corpus)\n",
      "    \n",
      "    if text_vectorizer == 'hash':\n",
      "        Xdf = pd.DataFrame(X.toarray(),index=corpus)\n",
      "    else:\n",
      "        Xdf = pd.DataFrame(X.toarray(),index=corpus,columns=vectorizer.get_feature_names())\n",
      "    Xdf['zzRating'] = data.ix[:,0].values.astype(int)\n",
      "\n",
      "\n",
      "    X_train, X_test = train_test_split(Xdf, train_size = .7, random_state= 111)\n",
      "    y_train, y_test = X_train[:,X_train.shape[1] - 1], X_test[:,X_test.shape[1] - 1]\n",
      "    X_train, X_test = X_train[:,0:-1], X_test[:,0:-1]\n",
      "\n",
      "    if dim_reduce == 'Ch2':\n",
      "        ch2 = SelectKBest(chi2, k= k_variables)\n",
      "        b = ch2.fit(X_train, y_train)\n",
      "        X_train, X_test = X_train[:, b.get_support()], X_test[:, b.get_support()]\n",
      "    elif dim_reduce == 'SVD':\n",
      "        svd = TruncatedSVD(n_components=2, random_state=42)\n",
      "        X_train, X_test = svd.fit_transform(X_train), svd.fit_transform(X_test)\n",
      "\n",
      "\n",
      "    print('_' * 80)\n",
      "    print(\"Training: \")\n",
      "    print(clf)\n",
      "    t0 = time()\n",
      "    clf.fit(X_train, y_train)\n",
      "    train_time = time() - t0\n",
      "\n",
      "    t0 = time()\n",
      "    pred = clf.predict(X_test)\n",
      "    test_time = time() - t0\n",
      "\n",
      "    score = metrics.f1_score(y_test, pred)\n",
      "    print(\"F1 Score:   %0.3f\" % score)\n",
      "    \n",
      "    if text_vectorizer != 'hash':\n",
      "        if top10 and feature_names is not None:\n",
      "            if hasattr(clf, 'coef_'):\n",
      "                    print(\"top 10 keywords per class:\")\n",
      "                    for i in range(3):\n",
      "                        top10 = np.argsort(clf.coef_[i])[-20:]\n",
      "                        feature_names = Xdf.ix[:,:-1]\n",
      "                        feature_names = feature_names.ix[:,b.get_support()].columns\n",
      "                        print(feature_names[top10])\n",
      "\n",
      "            if hasattr(clf, 'feature_importances_'):\n",
      "                print(\"top 10 keywords per class:\")\n",
      "                top10 = np.argsort(clf.feature_importances_)[-30:]\n",
      "                feature_names = Xdf.ix[:,:-1]\n",
      "                feature_names = feature_names.ix[:,b.get_support()].columns\n",
      "                print(feature_names[top10])\n",
      "\n",
      "    if report != None:\n",
      "        print(\"classification report:\")\n",
      "        print(metrics.classification_report(y_test, pred,\n",
      "                                            target_names=['1','2','3']))\n",
      "    \n",
      "    if matrix != None:\n",
      "        print(\"confusion matrix:\")\n",
      "        print(pd.DataFrame(metrics.confusion_matrix(y_test, pred), columns=['Bad','Neutral','Good'], index= ['Bad','Neutral','Good']))\n",
      "        conf = metrics.confusion_matrix(y_test, pred)\n",
      "\n",
      "    clf_descr = str(clf).split('(')[0]\n",
      "    return clf_descr, score, train_time, test_time, clf #probs,pred #conf"
     ],
     "language": "python",
     "prompt_number": 10
    },
    {
     "cell_type": "heading",
     "metadata": {},
     "level": 3,
     "source": [
      "Run Classifier Function"
     ]
    },
    {
     "cell_type": "code",
     "metadata": {},
     "outputs": [
      {
       "output_type": "stream",
       "stream": "stdout",
       "text": [
        "________________________________________________________________________________\n",
        "Training: \n",
        "RandomForestClassifier(bootstrap=True, compute_importances=None,\n",
        "            criterion='entropy', max_depth=None, max_features='auto',\n",
        "            max_leaf_nodes=None, min_density=None, min_samples_leaf=1,\n",
        "            min_samples_split=2, n_estimators=50, n_jobs=1,\n",
        "            oob_score=False, random_state=223, verbose=0)\n",
        "F1 Score:   0.972"
       ]
      },
      {
       "output_type": "stream",
       "stream": "stdout",
       "text": [
        "\n",
        "classification report:\n",
        "             precision    recall  f1-score   support\n",
        "\n",
        "          1       1.00      0.96      0.98       675\n",
        "          2       0.99      0.94      0.96      1432\n",
        "          3       0.96      0.99      0.98      3017\n",
        "\n",
        "avg / total       0.97      0.97      0.97      5124\n",
        "\n",
        "confusion matrix:\n",
        "         Bad  Neutral  Good\n",
        "Bad      645        3    27\n",
        "Neutral    0     1339    93\n",
        "Good       3       16  2998\n",
        "\n"
       ]
      }
     ],
     "input": [
      "clf_descr, score, train_time, test_time, clf= benchmark(RandomForestClassifier(bootstrap=True,\n",
      "            criterion='entropy', max_depth=None, max_features='auto',\n",
      "            max_leaf_nodes=None, min_density=None, min_samples_leaf=1,\n",
      "            min_samples_split=2, n_estimators=50, n_jobs=1,\n",
      "            oob_score=False, random_state=223, verbose=0), df, k_variables=1000, text_vectorizer='hash')"
     ],
     "language": "python",
     "prompt_number": 7
    },
    {
     "cell_type": "code",
     "metadata": {},
     "outputs": [
      {
       "output_type": "pyout",
       "prompt_number": 8,
       "text": [
        "\"from sklearn.externals import joblib\\njoblib.dump(clf, '/data1/home/anil/Desktop/IEdatachallange/hotelapp/analytics/models/senti_model.pkl')\\nprint('')\""
       ],
       "metadata": {}
      }
     ],
     "input": [
      "'''from sklearn.externals import joblib\n",
      "joblib.dump(clf, '/data1/home/anil/Desktop/IEdatachallange/hotelapp/analytics/models/senti_model.pkl')\n",
      "print('')'''"
     ],
     "language": "python",
     "prompt_number": 8
    },
    {
     "cell_type": "heading",
     "metadata": {},
     "level": 3,
     "source": [
      "Performance Benchmark Plot"
     ]
    },
    {
     "cell_type": "heading",
     "metadata": {},
     "level": 3,
     "source": [
      "Run All Algorithms at Once"
     ]
    },
    {
     "cell_type": "code",
     "metadata": {},
     "outputs": [
      {
       "output_type": "stream",
       "stream": "stdout",
       "text": [
        "================================================================================\n",
        "Ridge Classifier\n",
        "________________________________________________________________________________"
       ]
      },
      {
       "output_type": "stream",
       "stream": "stdout",
       "text": [
        "\n",
        "Training: \n",
        "RidgeClassifier(alpha=1.0, class_weight=None, copy_X=True, fit_intercept=True,\n",
        "        max_iter=None, normalize=False, solver='lsqr', tol=0.01)\n",
        "F1 Score:   0.608"
       ]
      },
      {
       "output_type": "stream",
       "stream": "stdout",
       "text": [
        "\n",
        "classification report:\n",
        "             precision    recall  f1-score   support\n",
        "\n",
        "          1       0.90      0.11      0.19       675\n",
        "          2       0.56      0.32      0.41      1432\n",
        "          3       0.68      0.95      0.80      3017\n",
        "\n",
        "avg / total       0.68      0.67      0.61      5124\n",
        "\n",
        "confusion matrix:\n",
        "         Bad  Neutral  Good\n",
        "Bad       72      226   377\n",
        "Neutral    5      460   967\n",
        "Good       3      134  2880\n",
        "\n",
        "================================================================================"
       ]
      },
      {
       "output_type": "stream",
       "stream": "stdout",
       "text": [
        "\n",
        "Perceptron\n",
        "________________________________________________________________________________"
       ]
      },
      {
       "output_type": "stream",
       "stream": "stdout",
       "text": [
        "\n",
        "Training: \n",
        "Perceptron(alpha=0.0001, class_weight=None, eta0=1.0, fit_intercept=True,\n",
        "      n_iter=50, n_jobs=1, penalty=None, random_state=0, shuffle=False,\n",
        "      verbose=0, warm_start=False)\n",
        "F1 Score:   0.700"
       ]
      },
      {
       "output_type": "stream",
       "stream": "stdout",
       "text": [
        "\n",
        "classification report:\n",
        "             precision    recall  f1-score   support\n",
        "\n",
        "          1       0.74      0.49      0.59       675\n",
        "          2       0.65      0.41      0.50      1432\n",
        "          3       0.74      0.92      0.82      3017\n",
        "\n",
        "avg / total       0.71      0.72      0.70      5124\n",
        "\n",
        "confusion matrix:\n",
        "         Bad  Neutral  Good\n",
        "Bad      329      124   222\n",
        "Neutral   82      582   768\n",
        "Good      34      195  2788\n",
        "\n",
        "================================================================================"
       ]
      },
      {
       "output_type": "stream",
       "stream": "stdout",
       "text": [
        "\n",
        "Passive-Aggressive\n",
        "________________________________________________________________________________"
       ]
      },
      {
       "output_type": "stream",
       "stream": "stdout",
       "text": [
        "\n",
        "Training: \n",
        "PassiveAggressiveClassifier(C=1.0, fit_intercept=True, loss='hinge',\n",
        "              n_iter=50, n_jobs=1, random_state=None, shuffle=False,\n",
        "              verbose=0, warm_start=False)\n",
        "F1 Score:   0.692"
       ]
      },
      {
       "output_type": "stream",
       "stream": "stdout",
       "text": [
        "\n",
        "classification report:\n",
        "             precision    recall  f1-score   support\n",
        "\n",
        "          1       0.79      0.32      0.46       675\n",
        "          2       0.62      0.46      0.53      1432\n",
        "          3       0.74      0.93      0.82      3017\n",
        "\n",
        "avg / total       0.71      0.72      0.69      5124\n",
        "\n",
        "confusion matrix:\n",
        "         Bad  Neutral  Good\n",
        "Bad      217      201   257\n",
        "Neutral   40      658   734\n",
        "Good      16      204  2797\n",
        "\n",
        "================================================================================"
       ]
      },
      {
       "output_type": "stream",
       "stream": "stdout",
       "text": [
        "\n",
        "Forest\n",
        "________________________________________________________________________________"
       ]
      },
      {
       "output_type": "stream",
       "stream": "stdout",
       "text": [
        "\n",
        "Training: \n",
        "RandomForestClassifier(bootstrap=True, compute_importances=None,\n",
        "            criterion='gini', max_depth=None, max_features='auto',\n",
        "            max_leaf_nodes=None, min_density=None, min_samples_leaf=1,\n",
        "            min_samples_split=2, n_estimators=10, n_jobs=1,\n",
        "            oob_score=False, random_state=None, verbose=0)\n",
        "F1 Score:   0.953"
       ]
      },
      {
       "output_type": "stream",
       "stream": "stdout",
       "text": [
        "\n",
        "classification report:\n",
        "             precision    recall  f1-score   support\n",
        "\n",
        "          1       0.97      0.95      0.96       675\n",
        "          2       0.93      0.94      0.93      1432\n",
        "          3       0.96      0.96      0.96      3017\n",
        "\n",
        "avg / total       0.95      0.95      0.95      5124\n",
        "\n",
        "confusion matrix:\n",
        "         Bad  Neutral  Good\n",
        "Bad      639        6    30\n",
        "Neutral    9     1345    78\n",
        "Good      14      102  2901\n",
        "\n",
        "================================================================================"
       ]
      },
      {
       "output_type": "stream",
       "stream": "stdout",
       "text": [
        "\n",
        "L2 penalty\n",
        "________________________________________________________________________________"
       ]
      },
      {
       "output_type": "stream",
       "stream": "stdout",
       "text": [
        "\n",
        "Training: \n",
        "LinearSVC(C=1.0, class_weight=None, dual=False, fit_intercept=True,\n",
        "     intercept_scaling=1, loss='l2', multi_class='ovr', penalty='l2',\n",
        "     random_state=None, tol=0.001, verbose=0)\n",
        "F1 Score:   0.654"
       ]
      },
      {
       "output_type": "stream",
       "stream": "stdout",
       "text": [
        "\n",
        "classification report:\n",
        "             precision    recall  f1-score   support\n",
        "\n",
        "          1       0.79      0.22      0.35       675\n",
        "          2       0.58      0.39      0.47      1432\n",
        "          3       0.71      0.94      0.81      3017\n",
        "\n",
        "avg / total       0.69      0.69      0.65      5124\n",
        "\n",
        "confusion matrix:\n",
        "         Bad  Neutral  Good\n",
        "Bad      150      230   295\n",
        "Neutral   24      565   843\n",
        "Good      17      171  2829\n",
        "\n",
        "________________________________________________________________________________"
       ]
      },
      {
       "output_type": "stream",
       "stream": "stdout",
       "text": [
        "\n",
        "Training: \n",
        "SGDClassifier(alpha=0.0001, class_weight=None, epsilon=0.1, eta0=0.0,\n",
        "       fit_intercept=True, l1_ratio=0.15, learning_rate='optimal',\n",
        "       loss='hinge', n_iter=50, n_jobs=1, penalty='l2', power_t=0.5,\n",
        "       random_state=None, shuffle=False, verbose=0, warm_start=False)\n",
        "F1 Score:   0.461"
       ]
      },
      {
       "output_type": "stream",
       "stream": "stdout",
       "text": [
        "\n",
        "classification report:\n",
        "             precision    recall  f1-score   support\n",
        "\n",
        "          1       1.00      0.01      0.03       675\n",
        "          2       0.57      0.03      0.06      1432\n",
        "          3       0.60      1.00      0.75      3017\n",
        "\n",
        "avg / total       0.64      0.60      0.46      5124\n",
        "\n",
        "confusion matrix:\n",
        "         Bad  Neutral  Good\n",
        "Bad       10       30   635\n",
        "Neutral    0       44  1388\n",
        "Good       0        3  3014\n",
        "\n",
        "================================================================================"
       ]
      },
      {
       "output_type": "stream",
       "stream": "stdout",
       "text": [
        "\n",
        "L1 penalty\n",
        "________________________________________________________________________________"
       ]
      },
      {
       "output_type": "stream",
       "stream": "stdout",
       "text": [
        "\n",
        "Training: \n",
        "LinearSVC(C=1.0, class_weight=None, dual=False, fit_intercept=True,\n",
        "     intercept_scaling=1, loss='l2', multi_class='ovr', penalty='l1',\n",
        "     random_state=None, tol=0.001, verbose=0)\n",
        "F1 Score:   0.694"
       ]
      },
      {
       "output_type": "stream",
       "stream": "stdout",
       "text": [
        "\n",
        "classification report:\n",
        "             precision    recall  f1-score   support\n",
        "\n",
        "          1       0.75      0.35      0.48       675\n",
        "          2       0.60      0.47      0.53      1432\n",
        "          3       0.75      0.91      0.82      3017\n",
        "\n",
        "avg / total       0.71      0.72      0.69      5124\n",
        "\n",
        "confusion matrix:\n",
        "         Bad  Neutral  Good\n",
        "Bad      235      212   228\n",
        "Neutral   57      675   700\n",
        "Good      20      243  2754\n",
        "\n",
        "________________________________________________________________________________"
       ]
      },
      {
       "output_type": "stream",
       "stream": "stdout",
       "text": [
        "\n",
        "Training: \n",
        "SGDClassifier(alpha=0.0001, class_weight=None, epsilon=0.1, eta0=0.0,\n",
        "       fit_intercept=True, l1_ratio=0.15, learning_rate='optimal',\n",
        "       loss='hinge', n_iter=50, n_jobs=1, penalty='l1', power_t=0.5,\n",
        "       random_state=None, shuffle=False, verbose=0, warm_start=False)\n",
        "F1 Score:   0.556"
       ]
      },
      {
       "output_type": "stream",
       "stream": "stdout",
       "text": [
        "\n",
        "classification report:\n",
        "             precision    recall  f1-score   support\n",
        "\n",
        "          1       0.77      0.07      0.13       675\n",
        "          2       0.52      0.20      0.29      1432\n",
        "          3       0.65      0.97      0.78      3017\n",
        "\n",
        "avg / total       0.63      0.64      0.56      5124\n",
        "\n",
        "confusion matrix:\n",
        "         Bad  Neutral  Good\n",
        "Bad       47      176   452\n",
        "Neutral   14      284  1134\n",
        "Good       0       82  2935\n",
        "\n",
        "================================================================================"
       ]
      },
      {
       "output_type": "stream",
       "stream": "stdout",
       "text": [
        "\n",
        "Elastic-Net penalty\n",
        "________________________________________________________________________________"
       ]
      },
      {
       "output_type": "stream",
       "stream": "stdout",
       "text": [
        "\n",
        "Training: \n",
        "SGDClassifier(alpha=0.0001, class_weight=None, epsilon=0.1, eta0=0.0,\n",
        "       fit_intercept=True, l1_ratio=0.15, learning_rate='optimal',\n",
        "       loss='hinge', n_iter=50, n_jobs=1, penalty='elasticnet',\n",
        "       power_t=0.5, random_state=None, shuffle=False, verbose=0,\n",
        "       warm_start=False)\n",
        "F1 Score:   0.465"
       ]
      },
      {
       "output_type": "stream",
       "stream": "stdout",
       "text": [
        "\n",
        "classification report:\n",
        "             precision    recall  f1-score   support\n",
        "\n",
        "          1       1.00      0.02      0.04       675\n",
        "          2       0.57      0.03      0.07      1432\n",
        "          3       0.60      1.00      0.75      3017\n",
        "\n",
        "avg / total       0.65      0.60      0.47      5124\n",
        "\n",
        "confusion matrix:\n",
        "         Bad  Neutral  Good\n",
        "Bad       14       33   628\n",
        "Neutral    0       50  1382\n",
        "Good       0        4  3013\n",
        "\n",
        "================================================================================"
       ]
      },
      {
       "output_type": "stream",
       "stream": "stdout",
       "text": [
        "\n",
        "NearestCentroid (aka Rocchio classifier)\n",
        "________________________________________________________________________________"
       ]
      },
      {
       "output_type": "stream",
       "stream": "stdout",
       "text": [
        "\n",
        "Training: \n",
        "NearestCentroid(metric='euclidean', shrink_threshold=None)\n",
        "F1 Score:   0.564"
       ]
      },
      {
       "output_type": "stream",
       "stream": "stdout",
       "text": [
        "\n",
        "classification report:\n",
        "             precision    recall  f1-score   support\n",
        "\n",
        "          1       0.30      0.66      0.41       675\n",
        "          2       0.41      0.35      0.38      1432\n",
        "          3       0.77      0.62      0.69      3017\n",
        "\n",
        "avg / total       0.61      0.55      0.56      5124\n",
        "\n",
        "confusion matrix:\n",
        "         Bad  Neutral  Good\n",
        "Bad      445      121   109\n",
        "Neutral  488      497   447\n",
        "Good     560      588  1869\n",
        "\n",
        "================================================================================"
       ]
      },
      {
       "output_type": "stream",
       "stream": "stdout",
       "text": [
        "\n",
        "Naive Bayes\n",
        "________________________________________________________________________________"
       ]
      },
      {
       "output_type": "stream",
       "stream": "stdout",
       "text": [
        "\n",
        "Training: \n",
        "BernoulliNB(alpha=0.01, binarize=0.0, class_prior=None, fit_prior=True)\n",
        "F1 Score:   0.728"
       ]
      },
      {
       "output_type": "stream",
       "stream": "stdout",
       "text": [
        "\n",
        "classification report:\n",
        "             precision    recall  f1-score   support\n",
        "\n",
        "          1       0.57      0.64      0.60       675\n",
        "          2       0.60      0.55      0.58      1432\n",
        "          3       0.82      0.83      0.83      3017\n",
        "\n",
        "avg / total       0.73      0.73      0.73      5124\n",
        "\n",
        "confusion matrix:\n",
        "         Bad  Neutral  Good\n",
        "Bad      431      153    91\n",
        "Neutral  183      791   458\n",
        "Good     138      365  2514\n",
        "\n",
        "================================================================================"
       ]
      },
      {
       "output_type": "stream",
       "stream": "stdout",
       "text": [
        "\n",
        "LinearSVC with L1-based feature selection\n",
        "________________________________________________________________________________"
       ]
      },
      {
       "output_type": "stream",
       "stream": "stdout",
       "text": [
        "\n",
        "Training: \n",
        "L1LinearSVC(C=1.0, class_weight=None, dual=True, fit_intercept=True,\n",
        "      intercept_scaling=1, loss='l2', multi_class='ovr', penalty='l2',\n",
        "      random_state=None, tol=0.0001, verbose=0)\n",
        "[ 3.  3.  3. ...,  3.  3.  3.]"
       ]
      },
      {
       "output_type": "stream",
       "stream": "stdout",
       "text": [
        "\n",
        "F1 Score:   0.646\n",
        "classification report:\n",
        "             precision    recall  f1-score   support\n",
        "\n",
        "          1       0.78      0.19      0.31       675\n",
        "          2       0.56      0.39      0.46      1432\n",
        "          3       0.71      0.93      0.81      3017\n",
        "\n",
        "avg / total       0.68      0.69      0.65      5124\n",
        "\n",
        "confusion matrix:\n",
        "         Bad  Neutral  Good\n",
        "Bad      131      252   292\n",
        "Neutral   19      563   850\n",
        "Good      17      182  2818\n",
        "\n"
       ]
      }
     ],
     "input": [
      "results = []\n",
      "for clf, name in (\n",
      "        (RidgeClassifier(tol=1e-2, solver=\"lsqr\"), \"Ridge Classifier\"),\n",
      "        (Perceptron(n_iter=50), \"Perceptron\"),\n",
      "        (PassiveAggressiveClassifier(n_iter=50), \"Passive-Aggressive\"),\n",
      "        #(KNeighborsClassifier(n_neighbors=10), \"kNN\"),\n",
      "        (RandomForestClassifier(),\"Forest\"),\n",
      "        #(SVC(C=1.0, cache_size=200, class_weight=None, coef0=0.0, degree=3,\n",
      "        #gamma=0.0, kernel='linear', max_iter=-1, probability=False,\n",
      "        #random_state=None, shrinking=True, tol=0.001, verbose=False), \"SVM\")\n",
      "                    ):\n",
      "    print('=' * 80)\n",
      "    print(name)\n",
      "    results.append(benchmark(clf, df))\n",
      "\n",
      "for penalty in [\"l2\", \"l1\"]:\n",
      "    print('=' * 80)\n",
      "    print(\"%s penalty\" % penalty.upper())\n",
      "    # Train Liblinear model\n",
      "    results.append(benchmark(LinearSVC(loss='l2', penalty=penalty,\n",
      "                                            dual=False, tol=1e-3),df))\n",
      "\n",
      "    # Train SGD model\n",
      "    results.append(benchmark(SGDClassifier(alpha=.0001, n_iter=50,\n",
      "                                           penalty=penalty),df))\n",
      "\n",
      "# Train SGD with Elastic Net penalty\n",
      "print('=' * 80)\n",
      "print(\"Elastic-Net penalty\")\n",
      "results.append(benchmark(SGDClassifier(alpha=.0001, n_iter=50,\n",
      "                                       penalty=\"elasticnet\"),df))\n",
      "\n",
      "# Train NearestCentroid without threshold\n",
      "print('=' * 80)\n",
      "print(\"NearestCentroid (aka Rocchio classifier)\")\n",
      "results.append(benchmark(NearestCentroid(),df))\n",
      "\n",
      "# Train sparse Naive Bayes classifiers\n",
      "print('=' * 80)\n",
      "print(\"Naive Bayes\")\n",
      "results.append(benchmark(BernoulliNB(alpha=.01),df))\n",
      "\n",
      "\n",
      "class L1LinearSVC(LinearSVC):\n",
      "\n",
      "    def fit(self, X, y):\n",
      "        # The smaller C, the stronger the regularization.\n",
      "        # The more regularization, the more sparsity.\n",
      "        self.transformer_ = LinearSVC(penalty=\"l1\",\n",
      "                                      dual=False, tol=1e-3)\n",
      "        X = self.transformer_.fit_transform(X, y)\n",
      "        return LinearSVC.fit(self, X, y)\n",
      "\n",
      "    def predict(self, X):\n",
      "        X = self.transformer_.transform(X)\n",
      "        print(LinearSVC.predict(self, X))\n",
      "        return LinearSVC.predict(self, X)\n",
      "\n",
      "print('=' * 80)\n",
      "print(\"LinearSVC with L1-based feature selection\")\n",
      "results.append(benchmark(L1LinearSVC(),df))"
     ],
     "language": "python",
     "prompt_number": 11
    },
    {
     "cell_type": "code",
     "metadata": {},
     "outputs": [
      {
       "output_type": "display_data",
       "png": "[encoded data removed]",
       "text": [
        "<matplotlib.figure.Figure at 0x7f437c72d7b8>"
       ],
       "metadata": {}
      }
     ],
     "input": [
      "# make some plots\n",
      "%matplotlib inline\n",
      "indices = np.arange(len(results))\n",
      "\n",
      "results = [[x[i] for x in results] for i in range(4)]\n",
      "\n",
      "clf_names, score, training_time, test_time = results\n",
      "training_time = np.array(training_time) / np.max(training_time)\n",
      "test_time = np.array(test_time) / np.max(test_time)\n",
      "\n",
      "plt.figure(figsize=(12, 8))\n",
      "plt.title(\"Score\")\n",
      "plt.barh(indices, score, .2, label=\"score\", color='r')\n",
      "plt.barh(indices + .3, training_time, .2, label=\"training time\", color='g')\n",
      "plt.barh(indices + .6, test_time, .2, label=\"test time\", color='b')\n",
      "plt.yticks(())\n",
      "plt.legend(loc='best')\n",
      "plt.subplots_adjust(left=.25)\n",
      "plt.subplots_adjust(top=.95)\n",
      "plt.subplots_adjust(bottom=.05)\n",
      "\n",
      "for i, c in zip(indices, clf_names):\n",
      "    plt.text(-.3, i, c)\n",
      "\n",
      "plt.show()"
     ],
     "language": "python",
     "prompt_number": 12
    },
    {
     "cell_type": "markdown",
     "metadata": {},
     "source": [
      "def benchmarkKFold(clf, text_vectorizer= 'tfi', dim_reduce='Ch2', k_variables=2000, top10=None, feature_names=None, report=None, matrix=None):\n",
      "    \n",
      "    corpus = []\n",
      "    data.ix[:,1].apply(Append)\n",
      "    \n",
      "    if text_vectorizer == 'tfi':\n",
      "        vectorizer = TfidfVectorizer(sublinear_tf=True, max_df=0.5, stop_words='english', lowercase=True)\n",
      "    \n",
      "    elif text_vectorizer == 'count':\n",
      "        vectorizer = CountVectorizer(ngram_range=(2,2), lowercase=True)\n",
      "        \n",
      "    X = vectorizer.fit_transform(corpus)\n",
      "\n",
      "    Xdf = pd.DataFrame(X.toarray(),index=corpus,columns=vectorizer.get_feature_names())\n",
      "    Xdf['zzRating'] = df.ix[:,0].values.astype(int)\n",
      "\n",
      "    skf = StratifiedKFold(Xdf[\"zzRating\"], 10)\n",
      "    for train_index, test_index in skf:\n",
      "        X_train, X_test = Xdf.ix[train_index,0:-1], X_test.ix[test_index, 0:-1]\n",
      "        y_train, y_test = Xdf.ix[train_index,0:-1], Xdf.ix[y_test,0:-1]\n",
      "\n",
      "\n",
      "        if dim_reduce == 'Ch2':\n",
      "            ch2 = SelectKBest(chi2, k= k_variables)\n",
      "            b = ch2.fit(X_train, y_train)\n",
      "            X_train, X_test = X_train[:, b.get_support()], X_test[:, b.get_support()]\n",
      "        elif dim_reduce == 'SVD':\n",
      "            svd = TruncatedSVD(n_components=10, random_state=42)\n",
      "            X_train, X_test = svd.fit_transform(X_train), svd.fit_transform(X_test)\n",
      "\n",
      "\n",
      "        clf.fit(X_train, y_train)\n",
      "\n",
      "        pred = clf.predict(X_test)\n",
      "\n",
      "\n",
      "        precision = metrics.precision_score(y_test, pred)\n",
      "        recall = metrics.recall_score(y_test, pred)\n",
      "        f1 = metrics.f1_score(y_test,pred)\n",
      "        \n",
      "        f1_score.append(f1)\n",
      "        recall_score.append(recall)\n",
      "        precision_score.append(precision)\n",
      "        \n",
      "    return numpy.mean(precision_score), numpy.mean(recall_score), numpy.mean(f1_score)"
     ]
    },
    {
     "cell_type": "markdown",
     "metadata": {},
     "source": [
      "precision, recall, f1 = benchmarkKFold(RandomForestClassifier(bootstrap=True,\n",
      "            criterion='entropy', max_depth=None, max_features='auto',\n",
      "            max_leaf_nodes=None, min_density=None, min_samples_leaf=1,\n",
      "            min_samples_split=2, n_estimators=50, n_jobs=1,\n",
      "            oob_score=False, random_state=223, verbose=0))"
     ]
    },
    {
     "cell_type": "code",
     "metadata": {},
     "outputs": [],
     "input": [
      ""
     ],
     "language": "python"
    }
   ]
  }
 ],
 "cells": [],
 "metadata": {
  "name": "",
  "signature": "sha256:ef3810211fcf1737dd2f512b1eef61ebe0f33468072483b83bff2a11319395e4"
 },
 "nbformat": 3,
 "nbformat_minor": 0
}